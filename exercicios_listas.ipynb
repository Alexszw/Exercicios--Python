{
 "cells": [
  {
   "cell_type": "markdown",
   "metadata": {},
   "source": [
    "1.Faça um Programa que leia um vetor de 5 números inteiros e mostre-os."
   ]
  },
  {
   "cell_type": "code",
   "execution_count": 2,
   "metadata": {},
   "outputs": [
    {
     "name": "stdout",
     "output_type": "stream",
     "text": [
      "Informe os 5 numeros\n",
      "Numero 1 :1\n",
      "Numero 2 :2\n",
      "Numero 3 :3\n",
      "Numero 4 :4\n",
      "Numero 5 :5\n",
      "['1', '2', '3', '4', '5']\n"
     ]
    }
   ],
   "source": [
    "listaNumeros = []\n",
    "print('Informe os 5 numeros')\n",
    "for i in range(5):\n",
    "    listaNumeros.append(input(f'Numero {i+1} :'))\n",
    "print(listaNumeros) "
   ]
  },
  {
   "cell_type": "code",
   "execution_count": null,
   "metadata": {},
   "outputs": [],
   "source": []
  },
  {
   "cell_type": "code",
   "execution_count": null,
   "metadata": {},
   "outputs": [],
   "source": []
  },
  {
   "cell_type": "code",
   "execution_count": null,
   "metadata": {},
   "outputs": [],
   "source": []
  }
 ],
 "metadata": {
  "kernelspec": {
   "display_name": "Python 3",
   "language": "python",
   "name": "python3"
  },
  "language_info": {
   "codemirror_mode": {
    "name": "ipython",
    "version": 3
   },
   "file_extension": ".py",
   "mimetype": "text/x-python",
   "name": "python",
   "nbconvert_exporter": "python",
   "pygments_lexer": "ipython3",
   "version": "3.7.3"
  }
 },
 "nbformat": 4,
 "nbformat_minor": 2
}
