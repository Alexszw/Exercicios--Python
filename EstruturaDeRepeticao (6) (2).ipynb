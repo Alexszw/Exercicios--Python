{
 "cells": [
  {
   "cell_type": "markdown",
   "metadata": {},
   "source": [
    "1.Faça um programa que peça uma nota, entre zero e dez. Mostre uma mensagem caso o valor seja inválido e continue pedindo até que o usuário informe um valor válido."
   ]
  },
  {
   "cell_type": "code",
   "execution_count": 2,
   "metadata": {},
   "outputs": [
    {
     "name": "stdout",
     "output_type": "stream",
     "text": [
      "Digite uma nota entre 0 e 10 :11\n",
      "Valor inválido\n",
      "Digite uma nota entre 0 e 10 :12\n",
      "Valor inválido\n",
      "Digite uma nota entre 0 e 10 :10\n",
      "Valor válido !\n"
     ]
    }
   ],
   "source": [
    "nota = float(input('Digite uma nota entre 0 e 10 :'))\n",
    "\n",
    "while (nota < 0 or nota > 10) :\n",
    "    print('Valor inválido')\n",
    "    nota = float(input('Digite uma nota entre 0 e 10 :'))\n",
    "else :\n",
    "    print('Valor válido !')\n",
    "    "
   ]
  },
  {
   "cell_type": "markdown",
   "metadata": {},
   "source": [
    "2.Faça um programa que leia um nome de usuário e a sua senha e não aceite a senha igual ao nome do usuário, mostrando uma mensagem de erro e voltando a pedir as informações."
   ]
  },
  {
   "cell_type": "code",
   "execution_count": 2,
   "metadata": {},
   "outputs": [
    {
     "name": "stdout",
     "output_type": "stream",
     "text": [
      "Digite o nome de usuário :Al\n",
      "Digite a senha de usuário :12\n",
      "Cadastro realizado !\n"
     ]
    }
   ],
   "source": [
    "nome = (input('Digite o nome de usuário :'))\n",
    "senha = (input('Digite a senha de usuário :'))\n",
    "while (nome == senha) :\n",
    "    print('Valor inválido!A senha tem que ser diferente em relação ao nome!')\n",
    "    nome = (input('Digite o nome de usuário :'))\n",
    "    senha = (input('Digite a senha de usuário :'))\n",
    "else :\n",
    "    print('Cadastro realizado !')\n",
    "    \n",
    "    \n",
    "    \n",
    "    \n",
    "    \n",
    "    \n",
    "    "
   ]
  },
  {
   "cell_type": "code",
   "execution_count": null,
   "metadata": {},
   "outputs": [],
   "source": [
    "3.Faça um programa que leia e valide as seguintes informações:\n",
    "Nome: maior que 3 caracteres;\n",
    "Idade: entre 0 e 150;\n",
    "Salário: maior que zero;\n",
    "Sexo: 'f' ou 'm';\n",
    "Estado Civil: 's', 'c', 'v', 'd';"
   ]
  },
  {
   "cell_type": "code",
   "execution_count": null,
   "metadata": {},
   "outputs": [
    {
     "name": "stdout",
     "output_type": "stream",
     "text": [
      "Digite o nome: Alex\n",
      "Digite a idade: 23\n",
      "Digite o salário: 12\n",
      "Digite o Sexo: f\n",
      "Digite o estado civil: s\n",
      "OK\n",
      "Ok\n",
      "Ok\n",
      "ok\n",
      "Ok\n"
     ]
    }
   ],
   "source": [
    "while(True):\n",
    "    nome = input('Digite o nome: ')\n",
    "    idade = int(input('Digite a idade: '))\n",
    "    salario = float(input('Digite o salário: '))\n",
    "    sexo = input('Digite o Sexo: ')\n",
    "    estadocivil = input('Digite o estado civil: ')\n",
    "    sexo = sexo.upper()\n",
    "    estadocivil = estadocivil.upper()\n",
    "    if(len(nome) > 3):\n",
    "        print('OK')\n",
    "    else:\n",
    "        print('Nome inválido!!')\n",
    "    if(idade > 0 and idade <= 150):\n",
    "        print('Ok')\n",
    "    else:   \n",
    "        print('Idade inválida!')\n",
    "    if(salario > 0):\n",
    "        print('Ok')\n",
    "    else:\n",
    "        print('Salário inválido!')\n",
    "    if( sexo == 'F' or sexo == 'M'):\n",
    "        print('ok')\n",
    "    else:\n",
    "        print('Sexo inválido!')\n",
    "    if(estadocivil == \"S\" or estadocivil == \"C\" or estadocivil == \"V\" or estadocivil == \"D\"):\n",
    "        print('Ok')\n",
    "    else:\n",
    "        print('Estado cívil inválido!')\n",
    "        \n",
    "                        "
   ]
  },
  {
   "cell_type": "markdown",
   "metadata": {},
   "source": [
    "4.Supondo que a população de um país A seja da ordem de 80000 habitantes com uma taxa anual de crescimento de 3% e que a população de B seja 200000 habitantes com uma taxa de crescimento de 1.5%. Faça um programa que calcule e escreva o número de anos necessários para que a população do país A ultrapasse ou iguale a população do país B, mantidas as taxas de crescimento."
   ]
  },
  {
   "cell_type": "code",
   "execution_count": 3,
   "metadata": {},
   "outputs": [
    {
     "name": "stdout",
     "output_type": "stream",
     "text": [
      "O número de anos para que a população do pais A iguale e ultrapasse a população do pais B é : 63 anos \n"
     ]
    }
   ],
   "source": [
    "pais_a = 80000\n",
    "pais_b = 200000\n",
    "ano = 0\n",
    "\n",
    "while pais_a <= pais_b:\n",
    "    pais_a += pais_a * 0.03\n",
    "    pais_b += pais_b * 0.015\n",
    "    ano += 1\n",
    "\n",
    "print ( f'O número de anos para que a população do pais A iguale e ultrapasse a população do pais B é : {ano} anos ' )\n",
    "    \n",
    "    \n",
    "    \n",
    "    \n",
    "    \n"
   ]
  },
  {
   "cell_type": "code",
   "execution_count": null,
   "metadata": {},
   "outputs": [],
   "source": []
  },
  {
   "cell_type": "markdown",
   "metadata": {},
   "source": [
    "6.Faça um programa que imprima na tela os números de 1 a 20, um abaixo do outro. Depois modifique o programa para que ele mostre os números um ao lado do outro."
   ]
  },
  {
   "cell_type": "code",
   "execution_count": 1,
   "metadata": {},
   "outputs": [
    {
     "name": "stdout",
     "output_type": "stream",
     "text": [
      "1\n",
      "2\n",
      "3\n",
      "4\n",
      "5\n",
      "6\n",
      "7\n",
      "8\n",
      "9\n",
      "10\n",
      "11\n",
      "12\n",
      "13\n",
      "14\n",
      "15\n",
      "16\n",
      "17\n",
      "18\n",
      "19\n",
      "20\n",
      "[1, 2, 3, 4, 5, 6, 7, 8, 9, 10, 11, 12, 13, 14, 15, 16, 17, 18, 19, 20]\n"
     ]
    }
   ],
   "source": [
    "for n in range(1,21) :\n",
    "    print(n)\n",
    "print(list(range(1,21)))"
   ]
  },
  {
   "cell_type": "code",
   "execution_count": null,
   "metadata": {},
   "outputs": [],
   "source": [
    "7.Faça um programa que leia 5 números e informe o maior número."
   ]
  },
  {
   "cell_type": "code",
   "execution_count": 9,
   "metadata": {},
   "outputs": [
    {
     "name": "stdout",
     "output_type": "stream",
     "text": [
      "Digite um número :5\n",
      "Digite um número :4\n",
      "Digite um número :3\n",
      "Digite um número :2\n",
      "Digite um número :1\n",
      "O maior número digitado é 5.0 \n"
     ]
    }
   ],
   "source": [
    "for n in range(1,6):\n",
    "    numero = float(input('Digite um número :'))\n",
    "\n",
    "    if numero > maior :\n",
    "        maior = numero\n",
    "print(f'O maior número digitado é {maior} ')\n",
    "      \n",
    "    \n",
    "    "
   ]
  },
  {
   "cell_type": "markdown",
   "metadata": {},
   "source": [
    "8.Faça um programa que leia 5 números e informe a soma e a média dos números."
   ]
  },
  {
   "cell_type": "code",
   "execution_count": 5,
   "metadata": {},
   "outputs": [
    {
     "name": "stdout",
     "output_type": "stream",
     "text": [
      "Digite um número :1\n",
      "Digite um número :2\n",
      "Digite um número :3\n",
      "Digite um número :4\n",
      "Digite um número :5\n",
      "A soma dos número é 15.0 e a média é 3.0\n"
     ]
    }
   ],
   "source": [
    "soma = 0\n",
    "for n in range(1,6):\n",
    "    numero = float(input('Digite um número :'))\n",
    "    soma += numero\n",
    "      \n",
    "media = soma / 5\n",
    "print(f'A soma dos número é {soma} e a média é {media}')\n",
    "    \n",
    "    \n",
    "    \n",
    "    \n",
    "    \n",
    "    \n",
    "    "
   ]
  },
  {
   "cell_type": "markdown",
   "metadata": {},
   "source": [
    "9.Faça um programa que imprima na tela apenas os números ímpares entre 1 e 50."
   ]
  },
  {
   "cell_type": "code",
   "execution_count": 5,
   "metadata": {},
   "outputs": [
    {
     "name": "stdout",
     "output_type": "stream",
     "text": [
      "1\n",
      "3\n",
      "5\n",
      "7\n",
      "9\n",
      "11\n",
      "13\n",
      "15\n",
      "17\n",
      "19\n",
      "21\n",
      "23\n",
      "25\n",
      "27\n",
      "29\n",
      "31\n",
      "33\n",
      "35\n",
      "37\n",
      "39\n",
      "41\n",
      "43\n",
      "45\n",
      "47\n",
      "49\n"
     ]
    }
   ],
   "source": [
    "for n in range (1,50 +1) :\n",
    "    if (n % 2) != 0 :\n",
    "        print(n)"
   ]
  },
  {
   "cell_type": "markdown",
   "metadata": {},
   "source": [
    "10.Faça um programa que receba dois números inteiros e gere os números inteiros que estão no intervalo compreendido por eles."
   ]
  },
  {
   "cell_type": "code",
   "execution_count": 12,
   "metadata": {},
   "outputs": [
    {
     "name": "stdout",
     "output_type": "stream",
     "text": [
      "Digite um número: 7\n",
      "Digite um número: 1\n",
      "7\n",
      "6\n",
      "5\n",
      "4\n",
      "3\n",
      "2\n",
      "1\n"
     ]
    }
   ],
   "source": [
    "n1 = int(input(\"Digite um número: \"))\n",
    "n2 = int(input(\"Digite um número: \"))\n",
    "compara = n1\n",
    "if compara <= n2 :\n",
    "    while compara <= n2:\n",
    "        print(compara)\n",
    "        compara += 1\n",
    "elif compara >= n2 :\n",
    "    while compara >= n2:\n",
    "        print(compara)\n",
    "        compara -= 1\n",
    "        \n",
    "    "
   ]
  },
  {
   "cell_type": "code",
   "execution_count": null,
   "metadata": {},
   "outputs": [],
   "source": [
    "11.Altere o programa anterior para mostrar no final a soma dos números."
   ]
  },
  {
   "cell_type": "code",
   "execution_count": 3,
   "metadata": {},
   "outputs": [
    {
     "name": "stdout",
     "output_type": "stream",
     "text": [
      "Digite um número: 1\n",
      "Digite um número: 4\n",
      "1\n",
      "2\n",
      "3\n",
      "4\n",
      "A soma dos números é 10\n"
     ]
    }
   ],
   "source": [
    "n1 = int(input(\"Digite um número: \"))\n",
    "n2 = int(input(\"Digite um número: \"))\n",
    "compara = n1\n",
    "soma = 0\n",
    "if compara <= n2 :\n",
    "    while compara <= n2:\n",
    "        print(compara)\n",
    "        soma += compara\n",
    "        compara += 1\n",
    "        \n",
    "elif compara >= n2 :\n",
    "    while compara >= n2:\n",
    "        print(compara)\n",
    "        soma += compara\n",
    "        compara -= 1\n",
    "        \n",
    "print(f'A soma dos números é {soma}')        \n",
    "    "
   ]
  },
  {
   "cell_type": "markdown",
   "metadata": {},
   "source": [
    "\n"
   ]
  },
  {
   "cell_type": "markdown",
   "metadata": {},
   "source": [
    "12.Desenvolva um gerador de tabuada, capaz de gerar a tabuada de qualquer número inteiro entre 1 a 10. O usuário deve informar de qual numero ele deseja ver a tabuada. A saída deve ser conforme o exemplo abaixo:\n",
    "Tabuada de 5:\n",
    "5 X 1 = 5\n",
    "5 X 2 = 10\n",
    "...\n",
    "5 X 10 = 50"
   ]
  },
  {
   "cell_type": "code",
   "execution_count": 5,
   "metadata": {},
   "outputs": [
    {
     "name": "stdout",
     "output_type": "stream",
     "text": [
      "Digite um número entre 1 a 10 para exibir a tabuada :5\n",
      "5 X 1 = 5\n",
      "5 X 2 = 10\n",
      "5 X 3 = 15\n",
      "5 X 4 = 20\n",
      "5 X 5 = 25\n",
      "5 X 6 = 30\n",
      "5 X 7 = 35\n",
      "5 X 8 = 40\n",
      "5 X 9 = 45\n",
      "5 X 10 = 50\n"
     ]
    }
   ],
   "source": [
    "n1 = int(input('Digite um número entre 1 a 10 para exibir a tabuada :'))\n",
    "resultado = 0\n",
    "for n in range(1,10 + 1) :\n",
    "    resultado = n * n1\n",
    "    print(f'{n1} X {n} = {resultado}')"
   ]
  },
  {
   "cell_type": "markdown",
   "metadata": {},
   "source": [
    "13.Faça um programa que peça dois números, base e expoente, calcule e mostre o primeiro número elevado ao segundo número. Não utilize a função de potência da linguagem."
   ]
  },
  {
   "cell_type": "code",
   "execution_count": 14,
   "metadata": {},
   "outputs": [
    {
     "name": "stdout",
     "output_type": "stream",
     "text": [
      "Digite o número da base :3\n",
      "Digite o número do expoente :3\n",
      "27.0\n"
     ]
    }
   ],
   "source": [
    "base = float(input('Digite o número da base :'))\n",
    "expoente = int(input('Digite o número do expoente :'))\n",
    "resultado = 1\n",
    "multiplica = 0\n",
    "for n in range(0,expoente):\n",
    "    multiplica = base * resultado\n",
    "    resultado = multiplica\n",
    "    \n",
    "print(resultado)\n"
   ]
  },
  {
   "cell_type": "markdown",
   "metadata": {},
   "source": [
    "14.Faça um programa que peça 10 números inteiros, calcule e mostre a quantidade de números pares e a quantidade de números impares."
   ]
  },
  {
   "cell_type": "code",
   "execution_count": 16,
   "metadata": {},
   "outputs": [
    {
     "name": "stdout",
     "output_type": "stream",
     "text": [
      "Digite um número inteiro :2\n",
      "Digite um número inteiro :4\n",
      "Digite um número inteiro :6\n",
      "Digite um número inteiro :8\n",
      "Digite um número inteiro :10\n",
      "Digite um número inteiro :12\n",
      "Digite um número inteiro :14\n",
      "Digite um número inteiro :16\n",
      "Digite um número inteiro :18\n",
      "Digite um número inteiro :20\n",
      "O número de números pares digitados foi 10 e de números ímpares foi 0\n"
     ]
    }
   ],
   "source": [
    "par = 0\n",
    "impar = 0\n",
    "for n in range(0,10) :\n",
    "    n1 = int(input('Digite um número inteiro :'))\n",
    "    if n1 % 2 == 0 :\n",
    "        par += 1\n",
    "    else :\n",
    "        impar += 1\n",
    "print(f'O número de números pares digitados foi {par} e de números ímpares foi {impar}')\n",
    "        \n",
    "    \n",
    "    \n",
    "    \n",
    "    \n",
    "    \n",
    "    \n",
    "    \n",
    "    \n",
    "    "
   ]
  },
  {
   "cell_type": "markdown",
   "metadata": {},
   "source": [
    "15.A série de Fibonacci é formada pela seqüência 1,1,2,3,5,8,13,21,34,55,... Faça um programa capaz de gerar a série até o n−ésimo termo."
   ]
  },
  {
   "cell_type": "code",
   "execution_count": 35,
   "metadata": {},
   "outputs": [
    {
     "name": "stdout",
     "output_type": "stream",
     "text": [
      "Digite um número para até onde você quer chegar com a série Fibonacci :4\n",
      "1 , 1 , 2 , 3 , 5 , fim.... "
     ]
    }
   ],
   "source": [
    "n1 = int(input('Digite um número para até onde você quer chegar com a série Fibonacci :'))\n",
    "anterior = 0\n",
    "posterior = 1\n",
    "print( posterior , ',' , end = ' ' )\n",
    "for n in range(0,n1) :\n",
    "    soma = anterior + posterior\n",
    "    print(soma, ',' , end = ' ')\n",
    "    anterior = posterior\n",
    "    posterior = soma\n",
    "print('fim....', end = ' ')\n",
    "\n",
    "    \n",
    "    "
   ]
  },
  {
   "cell_type": "markdown",
   "metadata": {},
   "source": [
    "16.A série de Fibonacci é formada pela seqüência 1,1,2,3,5,8,13,21,34,55,... Faça um programa que gere a série até que o valor seja maior que 500."
   ]
  },
  {
   "cell_type": "code",
   "execution_count": 3,
   "metadata": {},
   "outputs": [
    {
     "name": "stdout",
     "output_type": "stream",
     "text": [
      "1 , 1 , 2 , 3 , 5 , 8 , 13 , 21 , 34 , 55 , 89 , 144 , 233 , 377 , 610 , fim.... "
     ]
    }
   ],
   "source": [
    "anterior = 0\n",
    "posterior = 1\n",
    "print( posterior , ',' , end = ' ' )\n",
    "while posterior < 500 :\n",
    "    soma = anterior + posterior\n",
    "    print(soma, ',' , end = ' ')\n",
    "    anterior = posterior\n",
    "    posterior = soma\n",
    "print('fim....', end = ' ')\n"
   ]
  },
  {
   "cell_type": "markdown",
   "metadata": {},
   "source": [
    "17.Faça um programa que calcule o fatorial de um número inteiro fornecido pelo usuário. Ex.: 5!=5.4.3.2.1=120"
   ]
  },
  {
   "cell_type": "code",
   "execution_count": 11,
   "metadata": {},
   "outputs": [
    {
     "name": "stdout",
     "output_type": "stream",
     "text": [
      "Digite um número para ter seu fatorial fornecido :5\n",
      "5 ! = 5  .  4  .  3  .  2  .  1  .  = 0 "
     ]
    }
   ],
   "source": [
    "n1 = int(input('Digite um número para ter seu fatorial fornecido :'))\n",
    "n2 = 1\n",
    "multiplica = 0\n",
    "print(n1,'! =' , end = ' ')\n",
    "for n in range (0,n1) :\n",
    "    print(n1,' . ', end = ' ')\n",
    "    n2 = n1\n",
    "    n1 -= 1\n",
    "    multiplica = n2 * n1\n",
    "    total = multiplica \n",
    "print('=',multiplica, end = ' ')\n",
    "    \n",
    "    "
   ]
  },
  {
   "cell_type": "code",
   "execution_count": null,
   "metadata": {},
   "outputs": [],
   "source": []
  },
  {
   "cell_type": "code",
   "execution_count": null,
   "metadata": {},
   "outputs": [],
   "source": []
  },
  {
   "cell_type": "code",
   "execution_count": null,
   "metadata": {},
   "outputs": [],
   "source": []
  }
 ],
 "metadata": {
  "kernelspec": {
   "display_name": "Python 3",
   "language": "python",
   "name": "python3"
  },
  "language_info": {
   "codemirror_mode": {
    "name": "ipython",
    "version": 3
   },
   "file_extension": ".py",
   "mimetype": "text/x-python",
   "name": "python",
   "nbconvert_exporter": "python",
   "pygments_lexer": "ipython3",
   "version": "3.7.3"
  }
 },
 "nbformat": 4,
 "nbformat_minor": 2
}
