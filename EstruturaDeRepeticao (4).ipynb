{
 "cells": [
  {
   "cell_type": "markdown",
   "metadata": {},
   "source": [
    "1.Faça um programa que peça uma nota, entre zero e dez. Mostre uma mensagem caso o valor seja inválido e continue pedindo até que o usuário informe um valor válido."
   ]
  },
  {
   "cell_type": "code",
   "execution_count": 2,
   "metadata": {},
   "outputs": [
    {
     "name": "stdout",
     "output_type": "stream",
     "text": [
      "Digite uma nota entre 0 e 10 :11\n",
      "Valor inválido\n",
      "Digite uma nota entre 0 e 10 :12\n",
      "Valor inválido\n",
      "Digite uma nota entre 0 e 10 :10\n",
      "Valor válido !\n"
     ]
    }
   ],
   "source": [
    "nota = float(input('Digite uma nota entre 0 e 10 :'))\n",
    "\n",
    "while (nota < 0 or nota > 10) :\n",
    "    print('Valor inválido')\n",
    "    nota = float(input('Digite uma nota entre 0 e 10 :'))\n",
    "else :\n",
    "    print('Valor válido !')\n",
    "    "
   ]
  },
  {
   "cell_type": "markdown",
   "metadata": {},
   "source": [
    "2.Faça um programa que leia um nome de usuário e a sua senha e não aceite a senha igual ao nome do usuário, mostrando uma mensagem de erro e voltando a pedir as informações."
   ]
  },
  {
   "cell_type": "code",
   "execution_count": 2,
   "metadata": {},
   "outputs": [
    {
     "name": "stdout",
     "output_type": "stream",
     "text": [
      "Digite o nome de usuário :Al\n",
      "Digite a senha de usuário :12\n",
      "Cadastro realizado !\n"
     ]
    }
   ],
   "source": [
    "nome = (input('Digite o nome de usuário :'))\n",
    "senha = (input('Digite a senha de usuário :'))\n",
    "while (nome == senha) :\n",
    "    print('Valor inválido!A senha tem que ser diferente em relação ao nome!')\n",
    "    nome = (input('Digite o nome de usuário :'))\n",
    "    senha = (input('Digite a senha de usuário :'))\n",
    "else :\n",
    "    print('Cadastro realizado !')\n",
    "    \n",
    "    \n",
    "    \n",
    "    \n",
    "    \n",
    "    \n",
    "    "
   ]
  },
  {
   "cell_type": "code",
   "execution_count": null,
   "metadata": {},
   "outputs": [],
   "source": [
    "3.Faça um programa que leia e valide as seguintes informações:\n",
    "Nome: maior que 3 caracteres;\n",
    "Idade: entre 0 e 150;\n",
    "Salário: maior que zero;\n",
    "Sexo: 'f' ou 'm';\n",
    "Estado Civil: 's', 'c', 'v', 'd';"
   ]
  },
  {
   "cell_type": "code",
   "execution_count": null,
   "metadata": {},
   "outputs": [
    {
     "name": "stdout",
     "output_type": "stream",
     "text": [
      "Digite o nome: Alex\n",
      "Digite a idade: 23\n",
      "Digite o salário: 12\n",
      "Digite o Sexo: f\n",
      "Digite o estado civil: s\n",
      "OK\n",
      "Ok\n",
      "Ok\n",
      "ok\n",
      "Ok\n"
     ]
    }
   ],
   "source": [
    "while(True):\n",
    "    nome = input('Digite o nome: ')\n",
    "    idade = int(input('Digite a idade: '))\n",
    "    salario = float(input('Digite o salário: '))\n",
    "    sexo = input('Digite o Sexo: ')\n",
    "    estadocivil = input('Digite o estado civil: ')\n",
    "    sexo = sexo.upper()\n",
    "    estadocivil = estadocivil.upper()\n",
    "    if(len(nome) > 3):\n",
    "        print('OK')\n",
    "    else:\n",
    "        print('Nome inválido!!')\n",
    "    if(idade > 0 and idade <= 150):\n",
    "        print('Ok')\n",
    "    else:   \n",
    "        print('Idade inválida!')\n",
    "    if(salario > 0):\n",
    "        print('Ok')\n",
    "    else:\n",
    "        print('Salário inválido!')\n",
    "    if( sexo == 'F' or sexo == 'M'):\n",
    "        print('ok')\n",
    "    else:\n",
    "        print('Sexo inválido!')\n",
    "    if(estadocivil == \"S\" or estadocivil == \"C\" or estadocivil == \"V\" or estadocivil == \"D\"):\n",
    "        print('Ok')\n",
    "    else:\n",
    "        print('Estado cívil inválido!')\n",
    "        \n",
    "                        "
   ]
  },
  {
   "cell_type": "markdown",
   "metadata": {},
   "source": [
    "4.Supondo que a população de um país A seja da ordem de 80000 habitantes com uma taxa anual de crescimento de 3% e que a população de B seja 200000 habitantes com uma taxa de crescimento de 1.5%. Faça um programa que calcule e escreva o número de anos necessários para que a população do país A ultrapasse ou iguale a população do país B, mantidas as taxas de crescimento."
   ]
  },
  {
   "cell_type": "code",
   "execution_count": 3,
   "metadata": {},
   "outputs": [
    {
     "name": "stdout",
     "output_type": "stream",
     "text": [
      "O número de anos para que a população do pais A iguale e ultrapasse a população do pais B é : 63 anos \n"
     ]
    }
   ],
   "source": [
    "pais_a = 80000\n",
    "pais_b = 200000\n",
    "ano = 0\n",
    "\n",
    "while pais_a <= pais_b:\n",
    "    pais_a += pais_a * 0.03\n",
    "    pais_b += pais_b * 0.015\n",
    "    ano += 1\n",
    "\n",
    "print ( f'O número de anos para que a população do pais A iguale e ultrapasse a população do pais B é : {ano} anos ' )\n",
    "    \n",
    "    \n",
    "    \n",
    "    \n",
    "    \n"
   ]
  },
  {
   "cell_type": "code",
   "execution_count": null,
   "metadata": {},
   "outputs": [],
   "source": []
  },
  {
   "cell_type": "markdown",
   "metadata": {},
   "source": [
    "6.Faça um programa que imprima na tela os números de 1 a 20, um abaixo do outro. Depois modifique o programa para que ele mostre os números um ao lado do outro."
   ]
  },
  {
   "cell_type": "code",
   "execution_count": 1,
   "metadata": {},
   "outputs": [
    {
     "name": "stdout",
     "output_type": "stream",
     "text": [
      "1\n",
      "2\n",
      "3\n",
      "4\n",
      "5\n",
      "6\n",
      "7\n",
      "8\n",
      "9\n",
      "10\n",
      "11\n",
      "12\n",
      "13\n",
      "14\n",
      "15\n",
      "16\n",
      "17\n",
      "18\n",
      "19\n",
      "20\n",
      "[1, 2, 3, 4, 5, 6, 7, 8, 9, 10, 11, 12, 13, 14, 15, 16, 17, 18, 19, 20]\n"
     ]
    }
   ],
   "source": [
    "for n in range(1,21) :\n",
    "    print(n)\n",
    "print(list(range(1,21)))"
   ]
  },
  {
   "cell_type": "code",
   "execution_count": null,
   "metadata": {},
   "outputs": [],
   "source": [
    "7.Faça um programa que leia 5 números e informe o maior número."
   ]
  },
  {
   "cell_type": "code",
   "execution_count": 9,
   "metadata": {},
   "outputs": [
    {
     "name": "stdout",
     "output_type": "stream",
     "text": [
      "Digite um número :5\n",
      "Digite um número :4\n",
      "Digite um número :3\n",
      "Digite um número :2\n",
      "Digite um número :1\n",
      "O maior número digitado é 5.0 \n"
     ]
    }
   ],
   "source": [
    "for n in range(1,6):\n",
    "    numero = float(input('Digite um número :'))\n",
    "\n",
    "    if numero > maior :\n",
    "        maior = numero\n",
    "print(f'O maior número digitado é {maior} ')\n",
    "      \n",
    "    \n",
    "    "
   ]
  },
  {
   "cell_type": "markdown",
   "metadata": {},
   "source": [
    "8.Faça um programa que leia 5 números e informe a soma e a média dos números."
   ]
  },
  {
   "cell_type": "code",
   "execution_count": 5,
   "metadata": {},
   "outputs": [
    {
     "name": "stdout",
     "output_type": "stream",
     "text": [
      "Digite um número :1\n",
      "Digite um número :2\n",
      "Digite um número :3\n",
      "Digite um número :4\n",
      "Digite um número :5\n",
      "A soma dos número é 15.0 e a média é 3.0\n"
     ]
    }
   ],
   "source": [
    "soma = 0\n",
    "for n in range(1,6):\n",
    "    numero = float(input('Digite um número :'))\n",
    "    soma += numero\n",
    "      \n",
    "media = soma / 5\n",
    "print(f'A soma dos número é {soma} e a média é {media}')\n",
    "    \n",
    "    \n",
    "    \n",
    "    \n",
    "    \n",
    "    \n",
    "    "
   ]
  },
  {
   "cell_type": "code",
   "execution_count": null,
   "metadata": {},
   "outputs": [],
   "source": []
  },
  {
   "cell_type": "code",
   "execution_count": null,
   "metadata": {},
   "outputs": [],
   "source": []
  }
 ],
 "metadata": {
  "kernelspec": {
   "display_name": "Python 3",
   "language": "python",
   "name": "python3"
  },
  "language_info": {
   "codemirror_mode": {
    "name": "ipython",
    "version": 3
   },
   "file_extension": ".py",
   "mimetype": "text/x-python",
   "name": "python",
   "nbconvert_exporter": "python",
   "pygments_lexer": "ipython3",
   "version": "3.7.3"
  }
 },
 "nbformat": 4,
 "nbformat_minor": 2
}
