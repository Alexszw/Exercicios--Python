{
 "cells": [
  {
   "cell_type": "markdown",
   "metadata": {},
   "source": [
    "1.Faça um Programa que peça dois números e imprima o maior deles."
   ]
  },
  {
   "cell_type": "code",
   "execution_count": 15,
   "metadata": {},
   "outputs": [
    {
     "name": "stdout",
     "output_type": "stream",
     "text": [
      "Digite um número :4\n",
      "Digite outro número :5\n",
      "O maior número é 5\n"
     ]
    }
   ],
   "source": [
    "n1 = int(input('Digite um número :'))\n",
    "n2 = int(input('Digite outro número :'))\n",
    "if n1 > n2 :\n",
    "    print(f'O maior número é {n1}')\n",
    "elif n1 == n2 :\n",
    "    print(f'Os dois números são iguais')\n",
    "else:\n",
    "    print(f'O maior número é {n2}')"
   ]
  },
  {
   "cell_type": "markdown",
   "metadata": {},
   "source": [
    "2.Faça um Programa que peça um valor e mostre na tela se o valor é positivo ou negativo."
   ]
  },
  {
   "cell_type": "code",
   "execution_count": 16,
   "metadata": {},
   "outputs": [
    {
     "name": "stdout",
     "output_type": "stream",
     "text": [
      "Digite um número :4\n",
      "O número 4 é positivo\n"
     ]
    }
   ],
   "source": [
    "n1 = int(input('Digite um número :'))\n",
    "if n1 >= 0 :\n",
    "    print(f'O número {n1} é positivo')\n",
    "else :\n",
    "    print(f'O número {n1} é negativo')"
   ]
  },
  {
   "cell_type": "markdown",
   "metadata": {},
   "source": [
    "3.Faça um Programa que verifique se uma letra digitada é \"F\" ou \"M\". Conforme a letra escrever: F - Feminino, M - Masculino, Sexo Inválido."
   ]
  },
  {
   "cell_type": "code",
   "execution_count": 18,
   "metadata": {},
   "outputs": [
    {
     "name": "stdout",
     "output_type": "stream",
     "text": [
      "Digite a letra para o sexo :F\n",
      " F - Feminino\n"
     ]
    }
   ],
   "source": [
    "sexo = str(input('Digite a letra para o sexo :'))\n",
    "feminino = str('F')\n",
    "masculino = str('M')\n",
    "if (sexo == feminino) :\n",
    "    print(' F - Feminino')\n",
    "elif (sexo == masculino) :\n",
    "    print(' M - Masculino')\n",
    "else :\n",
    "    print('Sexo inválido')\n"
   ]
  },
  {
   "cell_type": "markdown",
   "metadata": {},
   "source": [
    "4.Faça um Programa que verifique se uma letra digitada é vogal ou consoante."
   ]
  },
  {
   "cell_type": "code",
   "execution_count": 19,
   "metadata": {},
   "outputs": [
    {
     "name": "stdout",
     "output_type": "stream",
     "text": [
      "Digite uma letra :a\n",
      "A letra digitada é uma vogal !\n"
     ]
    }
   ],
   "source": [
    "letra = str(input('Digite uma letra :'))\n",
    "letra = letra.upper()\n",
    "\n",
    "if letra.isalpha() :\n",
    "    if (letra == 'A' or letra == 'E' or letra == 'I' or letra == 'O' or letra == 'U') :\n",
    "        print('A letra digitada é uma vogal !')\n",
    "    else :\n",
    "        print('A letra digitada é uma consoante !')\n",
    "else:\n",
    "    print('Não é uma letra !')\n"
   ]
  },
  {
   "cell_type": "markdown",
   "metadata": {},
   "source": [
    "5.Faça um programa para a leitura de duas notas parciais de um aluno. O programa deve calcular a média alcançada por aluno e apresentar:\n",
    "A mensagem \"Aprovado\", se a média alcançada for maior ou igual a sete;\n",
    "A mensagem \"Reprovado\", se a média for menor do que sete;\n",
    "A mensagem \"Aprovado com Distinção\", se a média for igual a dez."
   ]
  },
  {
   "cell_type": "code",
   "execution_count": 20,
   "metadata": {},
   "outputs": [
    {
     "name": "stdout",
     "output_type": "stream",
     "text": [
      "Digite a primeira nota :8\n",
      "Digite a segunda nota : 7.8\n",
      "Sua média foi : 7.9\n",
      "Aprovado\n"
     ]
    }
   ],
   "source": [
    "n1 = float(input('Digite a primeira nota :'))\n",
    "n2 = float(input('Digite a segunda nota : '))\n",
    "media = (n1 + n2) / 2\n",
    "print(f'Sua média foi : {media}')\n",
    "if (media >= 7 and media < 10) :\n",
    "    print('Aprovado')\n",
    "elif media < 7 :\n",
    "    print('Reprovado')\n",
    "elif media ==10 :\n",
    "    print('Aprovado com distinção')\n",
    "else :\n",
    "    print('Notas inválidas')\n"
   ]
  },
  {
   "cell_type": "markdown",
   "metadata": {},
   "source": [
    "6.Faça um Programa que leia três números e mostre o maior deles."
   ]
  },
  {
   "cell_type": "code",
   "execution_count": 21,
   "metadata": {},
   "outputs": [
    {
     "name": "stdout",
     "output_type": "stream",
     "text": [
      "Digite um número :2\n",
      "Digite outro número :5\n",
      "Digite outro número :7\n",
      "O maior número digitado foi : 7.0\n"
     ]
    }
   ],
   "source": [
    "n1 = float(input('Digite um número :'))\n",
    "n2 = float(input('Digite outro número :'))\n",
    "n3 = float(input('Digite outro número :'))\n",
    "if ( n1 > n2 and n1 > n3 ) :\n",
    "    print(f'O maior número digitado foi : {n1}')\n",
    "elif (n2 > n1 and n2 > n3) :\n",
    "    print(f'O maior número digitado foi : {n2}')\n",
    "else :\n",
    "    print(f'O maior número digitado foi : {n3}')"
   ]
  },
  {
   "cell_type": "markdown",
   "metadata": {},
   "source": [
    "7.Faça um Programa que leia três números e mostre o maior e o menor deles."
   ]
  },
  {
   "cell_type": "code",
   "execution_count": 22,
   "metadata": {},
   "outputs": [
    {
     "name": "stdout",
     "output_type": "stream",
     "text": [
      "Digite um número :4\n",
      "Digite outro número :79\n",
      "Digite outro número :6\n",
      "O maior número digitado foi 79.0 e o menor foi 4.0\n"
     ]
    }
   ],
   "source": [
    "n1 = float(input('Digite um número :'))\n",
    "n2 = float(input('Digite outro número :'))\n",
    "n3 = float(input('Digite outro número :'))\n",
    "menor = n1\n",
    "meio = n1\n",
    "maior = n1\n",
    "if (n2 < n3 and n2 < menor )  :\n",
    "    menor = n2\n",
    "    \n",
    "if (n3 < n2 and n3 < menor) :\n",
    "    menor = n3\n",
    "    meio = n2\n",
    "if (n2 > maior and n2 > n3) :\n",
    "    maior = n2\n",
    "    \n",
    "if (n3 > maior and n3 > n2) :\n",
    "    maior = n3\n",
    "    \n",
    "print(f'O maior número digitado foi {maior} e o menor foi {menor}')\n",
    "    \n",
    "    \n",
    "    \n",
    "    "
   ]
  },
  {
   "cell_type": "markdown",
   "metadata": {},
   "source": [
    "8.Faça um programa que pergunte o preço de três produtos e informe qual produto você deve comprar, sabendo que a decisão é sempre pelo mais barato."
   ]
  },
  {
   "cell_type": "code",
   "execution_count": 23,
   "metadata": {},
   "outputs": [
    {
     "name": "stdout",
     "output_type": "stream",
     "text": [
      "Digite o valor do primeiro produto : R$12\n",
      "Digite o valor do segundo produto : R$12.45\n",
      "Digite o valor do terceiro produto : R$11.56\n",
      "O produto que você deve comprar é : R$ 11.56\n"
     ]
    }
   ],
   "source": [
    "n1 = float(input('Digite o valor do primeiro produto : R$'))\n",
    "n2 = float(input('Digite o valor do segundo produto : R$'))\n",
    "n3 = float(input('Digite o valor do terceiro produto : R$'))\n",
    "mais_barato = n1\n",
    "if (n2 < n1 and n2 < n3) :\n",
    "    mais_barato = n2\n",
    "elif (n3 < n2 and n3 < n1) :\n",
    "    mais_barato = n3\n",
    "print(f'O produto que você deve comprar é : R$ {mais_barato}')\n",
    "\n",
    "\n",
    "\n",
    "\n"
   ]
  },
  {
   "cell_type": "markdown",
   "metadata": {},
   "source": [
    "9.Faça um Programa que leia três números e mostre-os em ordem decrescente."
   ]
  },
  {
   "cell_type": "code",
   "execution_count": 24,
   "metadata": {},
   "outputs": [
    {
     "name": "stdout",
     "output_type": "stream",
     "text": [
      "Digite um número :4\n",
      "Digite outro número :8\n",
      "Digite outro número :5\n",
      "Os números na ordem descrecente fica 8.0 , 5.0 , 4.0\n"
     ]
    }
   ],
   "source": [
    "n1 = float(input('Digite um número :'))\n",
    "n2 = float(input('Digite outro número :'))\n",
    "n3 = float(input('Digite outro número :'))\n",
    "menor = n1\n",
    "meio = n1\n",
    "maior = n1\n",
    "if (n2 < n3 and n2 < menor )  :\n",
    "    menor = n2\n",
    "    meio = n3\n",
    "if (n3 < n2 and n3 < menor) :\n",
    "    menor = n3\n",
    "    meio = n2\n",
    "if (n2 > maior and n2 > n3) :\n",
    "    maior = n2\n",
    "    meio = n3\n",
    "if (n3 > maior and n3 > n2) :\n",
    "    maior = n3\n",
    "    meio = n2\n",
    "print(f'Os números na ordem descrecente fica {maior} , {meio} , {menor}')\n",
    "    "
   ]
  },
  {
   "cell_type": "markdown",
   "metadata": {},
   "source": [
    "10.Faça um Programa que pergunte em que turno você estuda. Peça para digitar M-matutino ou V-Vespertino ou N- Noturno. Imprima a mensagem \"Bom Dia!\", \"Boa Tarde!\" ou \"Boa Noite!\" ou \"Valor Inválido!\", conforme o caso."
   ]
  },
  {
   "cell_type": "code",
   "execution_count": 27,
   "metadata": {},
   "outputs": [
    {
     "name": "stdout",
     "output_type": "stream",
     "text": [
      "Digite o turno que você estuda sendo : M-matutino , V-vespertino , N-noturnom\n",
      "Bom dia !\n"
     ]
    }
   ],
   "source": [
    "turno = str(input('Digite o turno que você estuda sendo : M-matutino , V-vespertino , N-noturno'))\n",
    "turno = turno.upper()\n",
    "\n",
    "if (turno == 'M' or turno =='V' or turno == 'N') :\n",
    "    if (turno == 'M') :\n",
    "        print('Bom dia !')\n",
    "    elif (turno == 'V') :\n",
    "        print('Boa tarde !')\n",
    "    elif (turno == 'N') :\n",
    "        print('Boa noite !')\n",
    "else :\n",
    "    print('Valor inválido !')\n"
   ]
  },
  {
   "cell_type": "code",
   "execution_count": null,
   "metadata": {},
   "outputs": [],
   "source": [
    "11.As Organizações Tabajara resolveram dar um aumento de salário aos seus colaboradores e lhe contraram para desenvolver o programa que calculará os reajustes.\n",
    "Faça um programa que recebe o salário de um colaborador e o reajuste segundo o seguinte critério, baseado no salário atual:\n",
    "salários até R$ 280,00 (incluindo) : aumento de 20%\n",
    "salários entre R$ 280,00 e R$ 700,00 : aumento de 15%\n",
    "salários entre R$ 700,00 e R$ 1500,00 : aumento de 10%\n",
    "salários de R$ 1500,00 em diante : aumento de 5% Após o aumento ser realizado, informe na tela:\n",
    "o salário antes do reajuste;\n",
    "o percentual de aumento aplicado;\n",
    "o valor do aumento;\n",
    "o novo salário, após o aumento."
   ]
  },
  {
   "cell_type": "code",
   "execution_count": 28,
   "metadata": {},
   "outputs": [
    {
     "name": "stdout",
     "output_type": "stream",
     "text": [
      "Digite o salário do colaborador :1200\n",
      "O seu salário é de R$ 1200.0\n",
      "O percentual de aumento foi de : 10 % \n",
      "O valor do aumento foi de R$ 120.0 \n",
      "O seu novo salário é : R$ 1320.0 \n"
     ]
    }
   ],
   "source": [
    "salario = float(input('Digite o salário do colaborador :'))\n",
    "percentual = 0\n",
    "if salario <= 280 :\n",
    "    aumento = salario * 0.2\n",
    "    percentual = 20\n",
    "elif ( salario > 280 and salario <= 700 ) :\n",
    "    aumento = salario * 0.15\n",
    "    percentual = 15\n",
    "elif ( salario > 700 and salario <= 1500 ) :\n",
    "    aumento = salario * 0.10\n",
    "    percentual = 10\n",
    "elif  salario > 1500 :\n",
    "    aumento = salario * 0.05\n",
    "    percentual = 5\n",
    "novo_salario = salario + aumento\n",
    "print(f'O seu salário é de R$ {salario}')\n",
    "print(f'O percentual de aumento foi de : {percentual} % ')\n",
    "print(f'O valor do aumento foi de R$ {aumento} ')\n",
    "print(f'O seu novo salário é : R$ {novo_salario} ')\n",
    "    \n",
    "    \n",
    "    \n",
    "    \n",
    "    \n"
   ]
  },
  {
   "cell_type": "markdown",
   "metadata": {},
   "source": [
    "12.Faça um programa para o cálculo de uma folha de pagamento, sabendo que os descontos são do Imposto de Renda, que depende do salário bruto (conforme tabela abaixo) e 3% para o Sindicato e que o FGTS corresponde a 11% do Salário Bruto, mas não é descontado (é a empresa que deposita). O Salário Líquido corresponde ao Salário Bruto menos os descontos. O programa deverá pedir ao usuário o valor da sua hora e a quantidade de horas trabalhadas no mês.\n",
    "Desconto do IR:\n",
    "Salário Bruto até 900 (inclusive) - isento\n",
    "Salário Bruto até 1500 (inclusive) - desconto de 5%\n",
    "Salário Bruto até 2500 (inclusive) - desconto de 10%\n",
    "Salário Bruto acima de 2500 - desconto de 20% Imprima na tela as informações, dispostas conforme o exemplo abaixo. No exemplo o valor da hora é 5 e a quantidade de hora é 220.\n",
    "Salário Bruto: (5 * 220)        : R$ 1100,00\n",
    "        (-) IR (5%)                     : R$   55,00  \n",
    "        (-) INSS ( 10%)                 : R$  110,00\n",
    "        FGTS (11%)                      : R$  121,00\n",
    "        Total de descontos              : R$  165,00\n",
    "        Salário Liquido                 : R$  935,00"
   ]
  },
  {
   "cell_type": "code",
   "execution_count": 29,
   "metadata": {},
   "outputs": [
    {
     "name": "stdout",
     "output_type": "stream",
     "text": [
      " Qual a quantidade de horas trabalhadas no mês : 220\n",
      " Qual o valor da hora do colaborador : 12\n",
      " Salario bruto : (12.0 * 220.0) : R$ 2640.0\n",
      " (-) IR (20 % )  : R$ 528.0\n",
      " (-) INSS (10 %) : R$ 264.0\n",
      " FGTS (11 %) : R$ 290.4\n",
      " Total de descontos : R$ 792.0\n",
      " Salário líquido : R$ 1848.0\n"
     ]
    }
   ],
   "source": [
    "hora = float(input(' Qual a quantidade de horas trabalhadas no mês : '))\n",
    "valor_hora = float(input(' Qual o valor da hora do colaborador : '))\n",
    "salario_bruto = hora * valor_hora\n",
    "if salario_bruto <= 900 :\n",
    "    imposto_renda = 0\n",
    "    desconto = 'isento'\n",
    "elif ( salario_bruto > 900 and salario_bruto <= 1500 ) :\n",
    "    imposto_renda = salario_bruto * 0.05\n",
    "    desconto = 5\n",
    "elif ( salario_bruto > 1500 and salario_bruto <= 2500 ) :\n",
    "    imposto_renda = salario_bruto * 0.10\n",
    "    desconto = 10\n",
    "elif ( salario_bruto > 2500) :\n",
    "    imposto_renda = salario_bruto * 0.20\n",
    "    desconto = 20\n",
    "fgts = 11\n",
    "inss = 10\n",
    "desconto_inss = salario_bruto * 0.10\n",
    "desconto_fgts = salario_bruto * 0.11\n",
    "total_descontos = desconto_inss + imposto_renda\n",
    "salario_liquido = salario_bruto - total_descontos\n",
    "print(f' Salario bruto : ({valor_hora} * {hora}) : R$ {salario_bruto}')\n",
    "print(f' (-) IR ({desconto} % )  : R$ {imposto_renda}')\n",
    "print(f' (-) INSS ({inss} %) : R$ {desconto_inss}')\n",
    "print(f' FGTS ({fgts} %) : R$ {desconto_fgts}')\n",
    "print(f' Total de descontos : R$ {total_descontos}')\n",
    "print(f' Salário líquido : R$ {salario_liquido}')\n",
    "\n",
    "    \n",
    "    \n",
    "    \n",
    "    \n",
    "    "
   ]
  },
  {
   "cell_type": "markdown",
   "metadata": {},
   "source": [
    "13.Faça um Programa que leia um número e exiba o dia correspondente da semana. (1-Domingo, 2- Segunda, etc.), se digitar outro valor deve aparecer valor inválido."
   ]
  },
  {
   "cell_type": "code",
   "execution_count": 30,
   "metadata": {},
   "outputs": [
    {
     "name": "stdout",
     "output_type": "stream",
     "text": [
      "Digite um número :1\n",
      "O dia da semana referente ao número é : Domingo\n"
     ]
    }
   ],
   "source": [
    "dia_semana = int(input('Digite um número :'))\n",
    "if dia_semana == 1 :\n",
    "    print('O dia da semana referente ao número é : Domingo')\n",
    "elif dia_semana == 2 :\n",
    "    print('O dia da semana referente ao número é : Segunda')\n",
    "elif dia_semana == 3 :\n",
    "    print('O dia da semana referente ao número é : Terça')\n",
    "elif dia_semana == 4 :\n",
    "    print('O dia da semana referente ao número é : Quarta')\n",
    "elif dia_semana == 5 :\n",
    "    print('O dia da semana referente ao número é : Quinta')\n",
    "elif dia_semana == 6 :\n",
    "    print('O dia da semana referente ao número é : Sexta')\n",
    "elif dia_semana == 7 :\n",
    "    print('O dia da semana referente ao número é : Sábado')\n",
    "else :\n",
    "    print('Valor inválido')\n",
    "    "
   ]
  },
  {
   "cell_type": "markdown",
   "metadata": {},
   "source": [
    "14.Faça um programa que lê as duas notas parciais obtidas por um aluno numa disciplina ao longo de um semestre, e calcule a sua média. A atribuição de conceitos obedece à tabela abaixo:\n",
    "  Média de Aproveitamento  Conceito\n",
    "  Entre 9.0 e 10.0        A\n",
    "  Entre 7.5 e 9.0         B\n",
    "  Entre 6.0 e 7.5         C\n",
    "  Entre 4.0 e 6.0         D\n",
    "  Entre 4.0 e zero        E\n",
    "O algoritmo deve mostrar na tela as notas, a média, o conceito correspondente e a mensagem “APROVADO” se o conceito for A, B ou C ou “REPROVADO” se o conceito for D ou E."
   ]
  },
  {
   "cell_type": "code",
   "execution_count": 31,
   "metadata": {},
   "outputs": [
    {
     "name": "stdout",
     "output_type": "stream",
     "text": [
      "Digite a primeira nota : 10\n",
      "Digite a segunda nota : 8\n",
      "***************************************************\n",
      "******************Boletim**************************\n",
      "Primeira nota : 10.0\n",
      "Segunda nota : 8.0\n",
      "A média do semestre : 9.0\n",
      "Conceito : A\n",
      "Estatus : Aprovado\n"
     ]
    }
   ],
   "source": [
    "nota1 = float(input('Digite a primeira nota : '))\n",
    "nota2 = float(input('Digite a segunda nota : '))\n",
    "media = (nota1 + nota2) / 2\n",
    "if ( media >= 9 and media <= 10 ) :\n",
    "    conceito = 'A'\n",
    "    situacao = 'Aprovado'\n",
    "elif (media >=7.5 and media < 9 ) :\n",
    "    conceito = 'B'\n",
    "    situacao = 'Aprovado'\n",
    "elif (media >= 6 and media < 7.5 ) :\n",
    "    conceito = 'c'\n",
    "    situacao = 'Aprovado'\n",
    "elif (media >= 4 and media < 6 ) :\n",
    "    conceito = 'D'\n",
    "    situacao = 'Reprovado'\n",
    "\n",
    "elif (media >= 0 and media < 4 ) :\n",
    "    conceito = 'E'\n",
    "    situacao = 'Reprovado'\n",
    "    \n",
    "print('***************************************************')\n",
    "print('******************Boletim**************************')\n",
    "print(f'Primeira nota : {nota1}')\n",
    "print(f'Segunda nota : {nota2}')\n",
    "print(f'A média do semestre : {media}')\n",
    "print(f'Conceito : {conceito}')\n",
    "print(f'Estatus : {situacao}')\n",
    "    \n",
    "    \n",
    "    \n",
    "    \n",
    "    \n",
    "    \n",
    "    "
   ]
  },
  {
   "cell_type": "markdown",
   "metadata": {},
   "source": [
    "15.Faça um Programa que peça os 3 lados de um triângulo. O programa deverá informar se os valores podem ser um triângulo. Indique, caso os lados formem um triângulo, se o mesmo é: equilátero, isósceles ou escaleno.\n",
    "Dicas:\n",
    "Três lados formam um triângulo quando a soma de quaisquer dois lados for maior que o terceiro;\n",
    "Triângulo Equilátero: três lados iguais;\n",
    "Triângulo Isósceles: quaisquer dois lados iguais;\n",
    "Triângulo Escaleno: três lados diferentes;"
   ]
  },
  {
   "cell_type": "code",
   "execution_count": 14,
   "metadata": {},
   "outputs": [
    {
     "name": "stdout",
     "output_type": "stream",
     "text": [
      "Digite um lado do triângulo :1\n",
      "Digite outro lado do triângulo :2\n",
      "Digite outro lado do triângulo :3\n",
      "Os lados informados não formam um triângulo !\n"
     ]
    }
   ],
   "source": [
    "lado1 = int(input('Digite um lado do triângulo :'))\n",
    "lado2 = int(input('Digite outro lado do triângulo :'))\n",
    "lado3 = int(input('Digite outro lado do triângulo :'))\n",
    "if ( ((lado1 + lado2) > lado3) and ((lado1 + lado3) > lado2) and ((lado2 + lado3) > lado1 )) :\n",
    "    if (lado1 == lado2 and lado2 == lado3) :\n",
    "        print('Os lados informados formam um triângulo equilatero !')\n",
    "    elif ((lado1 == lado2 and lado1 != lado3) or (lado1 == lado3 and lado1 != lado2) or (lado2 == lado3 and lado2 != lado1 )) :\n",
    "        print('Os lados informados formam um triângulo isósceles !')\n",
    "    elif ((lado1 != lado2 and lado1 != lado3) and (lado2 != lado3)) :\n",
    "        print('Os lados informados formam um triângulo escaleno !')\n",
    "\n",
    "        \n",
    " \n",
    "\n",
    "else :\n",
    "    print('Os lados informados não formam um triângulo !')"
   ]
  },
  {
   "cell_type": "markdown",
   "metadata": {},
   "source": [
    "16.Faça um programa que calcule as raízes de uma equação do segundo grau, na forma ax2 + bx + c. O programa deverá pedir os valores de a, b e c e fazer as consistências, informando ao usuário nas seguintes situações:\n",
    "Se o usuário informar o valor de A igual a zero, a equação não é do segundo grau e o programa não deve fazer pedir os demais valores, sendo encerrado;\n",
    "Se o delta calculado for negativo, a equação não possui raizes reais. Informe ao usuário e encerre o programa;\n",
    "Se o delta calculado for igual a zero a equação possui apenas uma raiz real; informe-a ao usuário;\n",
    "Se o delta for positivo, a equação possui duas raiz reais; informe-as ao usuário;"
   ]
  },
  {
   "cell_type": "code",
   "execution_count": 3,
   "metadata": {},
   "outputs": [
    {
     "name": "stdout",
     "output_type": "stream",
     "text": [
      "*********************************************\n",
      "************Equação segundo grau ************\n",
      "Digite o valor de a :1\n",
      "Digite o valor de b :6\n",
      "Digite o valor de c :2\n",
      "A equação possui duas raiz reais !\n"
     ]
    }
   ],
   "source": [
    "print('*********************************************')\n",
    "print('************Equação segundo grau ************')\n",
    "\n",
    "valor_a = float(input('Digite o valor de a :'))\n",
    "if valor_a == 0 :\n",
    "    print('A equação não é do segundo grau !')\n",
    "if valor_a != 0 :\n",
    "    valor_b = float(input('Digite o valor de b :'))\n",
    "    valor_c = float(input('Digite o valor de c :'))\n",
    "    delta = (valor_b **2) -4 * valor_a * valor_c\n",
    "    if delta < 0 :\n",
    "        print('A equação não possui raizes reais !')\n",
    "    elif delta == 0 :\n",
    "        print('A equação possui apenas uma raiz real !')\n",
    "    elif delta > 0 :\n",
    "        print('A equação possui duas raiz reais !')"
   ]
  },
  {
   "cell_type": "markdown",
   "metadata": {},
   "source": [
    "17.Faça um Programa que peça um número correspondente a um determinado ano e em seguida informe se este ano é ou não bissexto."
   ]
  },
  {
   "cell_type": "code",
   "execution_count": 6,
   "metadata": {},
   "outputs": [
    {
     "name": "stdout",
     "output_type": "stream",
     "text": [
      "Ano: 1996\n",
      " O ano digitado é bissexto\n"
     ]
    }
   ],
   "source": [
    "ano = int(input('Ano: '))\n",
    "if (ano % 4 == 0 and ano % 100 != 0) or (ano % 400 == 0):\n",
    "    print(' O ano digitado é bissexto')\n",
    "else:\n",
    "    print(' O ano digitado não é bissexto')\n"
   ]
  },
  {
   "cell_type": "markdown",
   "metadata": {},
   "source": [
    "18.Faça um Programa que peça uma data no formato dd/mm/aaaa e determine se a mesma é uma data válida."
   ]
  },
  {
   "cell_type": "code",
   "execution_count": 10,
   "metadata": {},
   "outputs": [
    {
     "name": "stdout",
     "output_type": "stream",
     "text": [
      "Digite uma data com o seguinte formato dd/mm/aaaa ---> 29/02/1987\n",
      "data invalida\n"
     ]
    }
   ],
   "source": [
    "data = (input(\"Digite uma data com o seguinte formato dd/mm/aaaa ---> \"))\n",
    "dia = int(data[0:2])\n",
    "mes = int(data[3:5])\n",
    "ano = int(data[6:10])\n",
    "\n",
    "validade = \"true\"\n",
    "i = 0\n",
    "while validade == \"true\" and i == 0:\n",
    "    if (ano%4 == 0 and ano%100!= 0) or ano%400 == 0:\n",
    "        bissexto = \"sim\"\n",
    "    else:\n",
    "        bissexto = \"nao\"\n",
    "\n",
    "    if mes < 1 or mes > 12:\n",
    "        validade = \"false\"\n",
    "\n",
    "    if dia > 31 or ((mes == 4 or mes == 6 or mes == 9 or mes == 11) and dia > 30):\n",
    "        validade = \"false\"\n",
    "\n",
    "    if (mes == 2 and bissexto == \"nao\" and dia > 28) or ( mes == 2 and bissexto == \"sim\" and dia > 29):\n",
    "        validade = \"false\"\n",
    "    i = i + 1\n",
    "\n",
    "if validade == \"true\":\n",
    "    print(\"data valida\")\n",
    "else:\n",
    "    print(\"data invalida\")"
   ]
  },
  {
   "cell_type": "markdown",
   "metadata": {},
   "source": [
    "19.Faça um Programa que leia um número inteiro menor que 1000 e imprima a quantidade de centenas, dezenas e unidades do mesmo"
   ]
  },
  {
   "cell_type": "code",
   "execution_count": null,
   "metadata": {},
   "outputs": [],
   "source": [
    "n1 = int(input('Digite um número inteiro menor que 1000 : '))\n",
    "if n1 < 1000 :\n",
    "    if (n1 % 1) == 0 :\n",
    "        centena = n1 / 100\n",
    "        dezena = n1 / 10\n",
    "        unidade = n1 / 1\n",
    "        \n",
    "    \n",
    "    else:\n",
    "        print('Número inválido tem que ser um número inteiro ')\n",
    "\n",
    "    \n",
    "    \n",
    "    \n",
    "else :\n",
    "    print('Número inválido tem que ser menor que 1000')"
   ]
  },
  {
   "cell_type": "markdown",
   "metadata": {},
   "source": [
    "20.Faça um Programa para leitura de três notas parciais de um aluno. O programa deve calcular a média alcançada por aluno e presentar:\n",
    "A mensagem \"Aprovado\", se a média for maior ou igual a 7, com a respectiva média alcançada;\n",
    "A mensagem \"Reprovado\", se a média for menor do que 7, com a respectiva média alcançada;\n",
    "A mensagem \"Aprovado com Distinção\", se a média for igual a 10."
   ]
  },
  {
   "cell_type": "code",
   "execution_count": 18,
   "metadata": {},
   "outputs": [
    {
     "name": "stdout",
     "output_type": "stream",
     "text": [
      "Digite a primeira nota :7\n",
      "Digite a segunda nota :8\n",
      "Digite a terceira nota :9\n",
      "Aprovado\n"
     ]
    }
   ],
   "source": [
    "nota1 = float(input('Digite a primeira nota :'))\n",
    "nota2 = float(input('Digite a segunda nota :'))\n",
    "nota3 = float(input('Digite a terceira nota :'))\n",
    "\n",
    "media = (nota1 + nota2 + nota3 ) / 3\n",
    "if media == 10 :\n",
    "    print('Aprovado com distinção !')\n",
    "elif (media >= 7 and media <= 10 ) :\n",
    "    print('Aprovado')\n",
    "elif (media < 7 and media >= 0 ) :\n",
    "    print('Reprovado')\n",
    "else :\n",
    "    print('Valor inválido')"
   ]
  },
  {
   "cell_type": "code",
   "execution_count": null,
   "metadata": {},
   "outputs": [],
   "source": []
  },
  {
   "cell_type": "code",
   "execution_count": null,
   "metadata": {},
   "outputs": [],
   "source": []
  },
  {
   "cell_type": "code",
   "execution_count": null,
   "metadata": {},
   "outputs": [],
   "source": []
  },
  {
   "cell_type": "markdown",
   "metadata": {},
   "source": [
    "22.Faça um Programa que peça um número inteiro e determine se ele é par ou impar"
   ]
  },
  {
   "cell_type": "code",
   "execution_count": 32,
   "metadata": {},
   "outputs": [
    {
     "name": "stdout",
     "output_type": "stream",
     "text": [
      "Digite um número inteiro :23\n",
      "O número digitado é ímpar !\n"
     ]
    }
   ],
   "source": [
    "n1 = int(input('Digite um número inteiro :'))\n",
    "resto = n1 % 2\n",
    "if resto == 0 :\n",
    "    print('O número digitado é Par !')\n",
    "else :\n",
    "    print('O número digitado é ímpar !')"
   ]
  },
  {
   "cell_type": "markdown",
   "metadata": {},
   "source": [
    "23.Faça um Programa que peça um número e informe se o número é inteiro ou decimal."
   ]
  },
  {
   "cell_type": "code",
   "execution_count": 33,
   "metadata": {},
   "outputs": [
    {
     "name": "stdout",
     "output_type": "stream",
     "text": [
      "Informe um número: 12.3\n",
      "O número digitado é decimal ! \n"
     ]
    }
   ],
   "source": [
    "n1 = float(input(\"Informe um número: \"))\n",
    "n1 = (n1 % 1 )\n",
    "if n1 == 0 :\n",
    "    print('O número digitado é inteiro !')\n",
    "else :\n",
    "    print('O número digitado é decimal ! ')\n",
    " "
   ]
  },
  {
   "cell_type": "code",
   "execution_count": null,
   "metadata": {},
   "outputs": [],
   "source": []
  },
  {
   "cell_type": "code",
   "execution_count": null,
   "metadata": {},
   "outputs": [],
   "source": []
  },
  {
   "cell_type": "code",
   "execution_count": null,
   "metadata": {},
   "outputs": [],
   "source": []
  },
  {
   "cell_type": "code",
   "execution_count": null,
   "metadata": {},
   "outputs": [],
   "source": []
  },
  {
   "cell_type": "code",
   "execution_count": null,
   "metadata": {},
   "outputs": [],
   "source": []
  },
  {
   "cell_type": "code",
   "execution_count": null,
   "metadata": {},
   "outputs": [],
   "source": []
  },
  {
   "cell_type": "code",
   "execution_count": null,
   "metadata": {},
   "outputs": [],
   "source": []
  },
  {
   "cell_type": "code",
   "execution_count": null,
   "metadata": {},
   "outputs": [],
   "source": []
  }
 ],
 "metadata": {
  "kernelspec": {
   "display_name": "Python 3",
   "language": "python",
   "name": "python3"
  },
  "language_info": {
   "codemirror_mode": {
    "name": "ipython",
    "version": 3
   },
   "file_extension": ".py",
   "mimetype": "text/x-python",
   "name": "python",
   "nbconvert_exporter": "python",
   "pygments_lexer": "ipython3",
   "version": "3.7.3"
  }
 },
 "nbformat": 4,
 "nbformat_minor": 2
}
