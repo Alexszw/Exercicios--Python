{
 "cells": [
  {
   "cell_type": "markdown",
   "metadata": {},
   "source": [
    "1.Faça um programa que peça uma nota, entre zero e dez. Mostre uma mensagem caso o valor seja inválido e continue pedindo até que o usuário informe um valor válido."
   ]
  },
  {
   "cell_type": "code",
   "execution_count": 2,
   "metadata": {},
   "outputs": [
    {
     "name": "stdout",
     "output_type": "stream",
     "text": [
      "Digite uma nota entre 0 e 10 :11\n",
      "Valor inválido\n",
      "Digite uma nota entre 0 e 10 :12\n",
      "Valor inválido\n",
      "Digite uma nota entre 0 e 10 :10\n",
      "Valor válido !\n"
     ]
    }
   ],
   "source": [
    "nota = float(input('Digite uma nota entre 0 e 10 :'))\n",
    "\n",
    "while (nota < 0 or nota > 10) :\n",
    "    print('Valor inválido')\n",
    "    nota = float(input('Digite uma nota entre 0 e 10 :'))\n",
    "else :\n",
    "    print('Valor válido !')\n",
    "    "
   ]
  },
  {
   "cell_type": "markdown",
   "metadata": {},
   "source": [
    "2.Faça um programa que leia um nome de usuário e a sua senha e não aceite a senha igual ao nome do usuário, mostrando uma mensagem de erro e voltando a pedir as informações."
   ]
  },
  {
   "cell_type": "code",
   "execution_count": 2,
   "metadata": {},
   "outputs": [
    {
     "name": "stdout",
     "output_type": "stream",
     "text": [
      "Digite o nome de usuário :Al\n",
      "Digite a senha de usuário :12\n",
      "Cadastro realizado !\n"
     ]
    }
   ],
   "source": [
    "nome = (input('Digite o nome de usuário :'))\n",
    "senha = (input('Digite a senha de usuário :'))\n",
    "while (nome == senha) :\n",
    "    print('Valor inválido!A senha tem que ser diferente em relação ao nome!')\n",
    "    nome = (input('Digite o nome de usuário :'))\n",
    "    senha = (input('Digite a senha de usuário :'))\n",
    "else :\n",
    "    print('Cadastro realizado !')\n",
    "    \n",
    "    \n",
    "    \n",
    "    \n",
    "    \n",
    "    \n",
    "    "
   ]
  },
  {
   "cell_type": "code",
   "execution_count": null,
   "metadata": {},
   "outputs": [],
   "source": []
  },
  {
   "cell_type": "markdown",
   "metadata": {},
   "source": [
    "4.Supondo que a população de um país A seja da ordem de 80000 habitantes com uma taxa anual de crescimento de 3% e que a população de B seja 200000 habitantes com uma taxa de crescimento de 1.5%. Faça um programa que calcule e escreva o número de anos necessários para que a população do país A ultrapasse ou iguale a população do país B, mantidas as taxas de crescimento."
   ]
  },
  {
   "cell_type": "code",
   "execution_count": 3,
   "metadata": {},
   "outputs": [
    {
     "name": "stdout",
     "output_type": "stream",
     "text": [
      "O número de anos para que a população do pais A iguale e ultrapasse a população do pais B é : 63 anos \n"
     ]
    }
   ],
   "source": [
    "pais_a = 80000\n",
    "pais_b = 200000\n",
    "ano = 0\n",
    "\n",
    "while pais_a <= pais_b:\n",
    "    pais_a += pais_a * 0.03\n",
    "    pais_b += pais_b * 0.015\n",
    "    ano += 1\n",
    "\n",
    "print ( f'O número de anos para que a população do pais A iguale e ultrapasse a população do pais B é : {ano} anos ' )\n",
    "    \n",
    "    \n",
    "    \n",
    "    \n",
    "    \n"
   ]
  },
  {
   "cell_type": "code",
   "execution_count": null,
   "metadata": {},
   "outputs": [],
   "source": []
  },
  {
   "cell_type": "code",
   "execution_count": null,
   "metadata": {},
   "outputs": [],
   "source": []
  }
 ],
 "metadata": {
  "kernelspec": {
   "display_name": "Python 3",
   "language": "python",
   "name": "python3"
  },
  "language_info": {
   "codemirror_mode": {
    "name": "ipython",
    "version": 3
   },
   "file_extension": ".py",
   "mimetype": "text/x-python",
   "name": "python",
   "nbconvert_exporter": "python",
   "pygments_lexer": "ipython3",
   "version": "3.7.3"
  }
 },
 "nbformat": 4,
 "nbformat_minor": 2
}
