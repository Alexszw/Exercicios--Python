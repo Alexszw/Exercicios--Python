{
 "cells": [
  {
   "cell_type": "markdown",
   "metadata": {},
   "source": [
    "1.Faça um Programa que peça dois números e imprima o maior deles."
   ]
  },
  {
   "cell_type": "code",
   "execution_count": 1,
   "metadata": {},
   "outputs": [
    {
     "name": "stdout",
     "output_type": "stream",
     "text": [
      "Digite um número :6\n",
      "Digite outro número :3\n",
      "O maior número é 6\n"
     ]
    }
   ],
   "source": [
    "n1 = int(input('Digite um número :'))\n",
    "n2 = int(input('Digite outro número :'))\n",
    "if n1 > n2 :\n",
    "    print(f'O maior número é {n1}')\n",
    "elif n1 == n2 :\n",
    "    print(f'Os dois números são iguais')\n",
    "else:\n",
    "    print(f'O maior número é {n2}')"
   ]
  },
  {
   "cell_type": "markdown",
   "metadata": {},
   "source": [
    "2.Faça um Programa que peça um valor e mostre na tela se o valor é positivo ou negativo."
   ]
  },
  {
   "cell_type": "code",
   "execution_count": 2,
   "metadata": {},
   "outputs": [
    {
     "name": "stdout",
     "output_type": "stream",
     "text": [
      "Digite um número :-10\n",
      "O número -10 é negativo\n"
     ]
    }
   ],
   "source": [
    "n1 = int(input('Digite um número :'))\n",
    "if n1 >= 0 :\n",
    "    print(f'O número {n1} é positivo')\n",
    "else :\n",
    "    print(f'O número {n1} é negativo')"
   ]
  },
  {
   "cell_type": "markdown",
   "metadata": {},
   "source": [
    "3.Faça um Programa que verifique se uma letra digitada é \"F\" ou \"M\". Conforme a letra escrever: F - Feminino, M - Masculino, Sexo Inválido."
   ]
  },
  {
   "cell_type": "code",
   "execution_count": 4,
   "metadata": {},
   "outputs": [
    {
     "name": "stdout",
     "output_type": "stream",
     "text": [
      "Digite a letra para o sexo :M\n",
      " M - Masculino\n"
     ]
    }
   ],
   "source": [
    "sexo = str(input('Digite a letra para o sexo :'))\n",
    "feminino = str('F')\n",
    "masculino = str('M')\n",
    "if (sexo == feminino) :\n",
    "    print(' F - Feminino')\n",
    "elif (sexo == masculino) :\n",
    "    print(' M - Masculino')\n",
    "else :\n",
    "    print('Sexo inválido')\n"
   ]
  },
  {
   "cell_type": "markdown",
   "metadata": {},
   "source": [
    "4.Faça um Programa que verifique se uma letra digitada é vogal ou consoante."
   ]
  },
  {
   "cell_type": "code",
   "execution_count": 27,
   "metadata": {},
   "outputs": [
    {
     "name": "stdout",
     "output_type": "stream",
     "text": [
      "Digite uma letra :a\n",
      "A letra digitada é uma vogal !\n"
     ]
    }
   ],
   "source": [
    "letra = str(input('Digite uma letra :'))\n",
    "letra = letra.upper()\n",
    "\n",
    "if letra.isalpha() :\n",
    "    if (letra == 'A' or letra == 'E' or letra == 'I' or letra == 'O' or letra == 'U') :\n",
    "        print('A letra digitada é uma vogal !')\n",
    "    else :\n",
    "        print('A letra digitada é uma consoante !')\n",
    "else:\n",
    "    print('Não é uma letra !')\n"
   ]
  },
  {
   "cell_type": "markdown",
   "metadata": {},
   "source": [
    "5.Faça um programa para a leitura de duas notas parciais de um aluno. O programa deve calcular a média alcançada por aluno e apresentar:\n",
    "A mensagem \"Aprovado\", se a média alcançada for maior ou igual a sete;\n",
    "A mensagem \"Reprovado\", se a média for menor do que sete;\n",
    "A mensagem \"Aprovado com Distinção\", se a média for igual a dez."
   ]
  },
  {
   "cell_type": "code",
   "execution_count": 34,
   "metadata": {},
   "outputs": [
    {
     "name": "stdout",
     "output_type": "stream",
     "text": [
      "Digite a primeira nota :8\n",
      "Digite a segunda nota : 7.8\n",
      "Sua média foi : 7.9\n",
      "Aprovado\n"
     ]
    }
   ],
   "source": [
    "n1 = float(input('Digite a primeira nota :'))\n",
    "n2 = float(input('Digite a segunda nota : '))\n",
    "media = (n1 + n2) / 2\n",
    "print(f'Sua média foi : {media}')\n",
    "if (media >= 7 and media < 10) :\n",
    "    print('Aprovado')\n",
    "elif media < 7 :\n",
    "    print('Reprovado')\n",
    "elif media ==10 :\n",
    "    print('Aprovado com distinção')\n",
    "else :\n",
    "    print('Notas inválidas')\n"
   ]
  },
  {
   "cell_type": "markdown",
   "metadata": {},
   "source": [
    "6.Faça um Programa que leia três números e mostre o maior deles."
   ]
  },
  {
   "cell_type": "code",
   "execution_count": 37,
   "metadata": {},
   "outputs": [
    {
     "name": "stdout",
     "output_type": "stream",
     "text": [
      "Digite um número :5\n",
      "Digite outro número :6\n",
      "Digite outro número :7\n",
      "O maior número digitado foi : 7.0\n"
     ]
    }
   ],
   "source": [
    "n1 = float(input('Digite um número :'))\n",
    "n2 = float(input('Digite outro número :'))\n",
    "n3 = float(input('Digite outro número :'))\n",
    "if ( n1 > n2 and n1 > n3 ) :\n",
    "    print(f'O maior número digitado foi : {n1}')\n",
    "elif (n2 > n1 and n2 > n3) :\n",
    "    print(f'O maior número digitado foi : {n2}')\n",
    "else :\n",
    "    print(f'O maior número digitado foi : {n3}')"
   ]
  },
  {
   "cell_type": "code",
   "execution_count": null,
   "metadata": {},
   "outputs": [],
   "source": []
  },
  {
   "cell_type": "code",
   "execution_count": null,
   "metadata": {},
   "outputs": [],
   "source": []
  },
  {
   "cell_type": "code",
   "execution_count": null,
   "metadata": {},
   "outputs": [],
   "source": []
  }
 ],
 "metadata": {
  "kernelspec": {
   "display_name": "Python 3",
   "language": "python",
   "name": "python3"
  },
  "language_info": {
   "codemirror_mode": {
    "name": "ipython",
    "version": 3
   },
   "file_extension": ".py",
   "mimetype": "text/x-python",
   "name": "python",
   "nbconvert_exporter": "python",
   "pygments_lexer": "ipython3",
   "version": "3.7.3"
  }
 },
 "nbformat": 4,
 "nbformat_minor": 2
}
