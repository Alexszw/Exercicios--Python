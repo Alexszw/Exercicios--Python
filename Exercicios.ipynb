{
 "cells": [
  {
   "cell_type": "markdown",
   "metadata": {},
   "source": [
    "1.Faça um Programa que mostre a mensagem \"Alo mundo\" na tela."
   ]
  },
  {
   "cell_type": "code",
   "execution_count": 2,
   "metadata": {},
   "outputs": [
    {
     "name": "stdout",
     "output_type": "stream",
     "text": [
      "Olá mundo!\n"
     ]
    }
   ],
   "source": [
    "print('Olá mundo!')"
   ]
  },
  {
   "cell_type": "markdown",
   "metadata": {},
   "source": [
    "2.Faça um Programa que peça um número e então mostre a mensagem O número informado foi [número]."
   ]
  },
  {
   "cell_type": "code",
   "execution_count": 3,
   "metadata": {},
   "outputs": [
    {
     "name": "stdout",
     "output_type": "stream",
     "text": [
      "Digite um número :7\n",
      "O número informado foi 7 !\n"
     ]
    }
   ],
   "source": [
    "numero = int(input('Digite um número :'))\n",
    "print(f'O número informado foi {numero} !')"
   ]
  },
  {
   "cell_type": "markdown",
   "metadata": {},
   "source": [
    "3.Faça um Programa que peça dois números e imprima a soma."
   ]
  },
  {
   "cell_type": "code",
   "execution_count": 4,
   "metadata": {},
   "outputs": [
    {
     "name": "stdout",
     "output_type": "stream",
     "text": [
      "Digite um número :4\n",
      "Digite outro número :5\n",
      "A soma de 4 + 5 é : 9 \n"
     ]
    }
   ],
   "source": [
    "n1 = int(input('Digite um número :'))\n",
    "n2 = int(input('Digite outro número :'))\n",
    "print(f'A soma de {n1} + {n2} é : {n1+n2} ')"
   ]
  },
  {
   "cell_type": "markdown",
   "metadata": {},
   "source": [
    "4.Faça um Programa que peça as 4 notas bimestrais e mostre a média."
   ]
  },
  {
   "cell_type": "code",
   "execution_count": 1,
   "metadata": {},
   "outputs": [
    {
     "name": "stdout",
     "output_type": "stream",
     "text": [
      "Digite a primeira nota :4.5\n",
      "Digite a segunda nota :6\n",
      "Digite a terceira nota :7\n",
      "Digite a quarta nota :8\n",
      "A média das notas bimestrais é : 6.375\n"
     ]
    }
   ],
   "source": [
    "n1 = float(input('Digite a primeira nota :'))\n",
    "n2 = float(input('Digite a segunda nota :'))\n",
    "n3 = float(input('Digite a terceira nota :'))\n",
    "n4 = float(input('Digite a quarta nota :'))\n",
    "print(f'A média das notas bimestrais é : {(n1+n2+n3+n4)/4}')\n"
   ]
  },
  {
   "cell_type": "markdown",
   "metadata": {},
   "source": [
    "5.Faça um Programa que converta metros para centímetros."
   ]
  },
  {
   "cell_type": "code",
   "execution_count": 2,
   "metadata": {},
   "outputs": [
    {
     "name": "stdout",
     "output_type": "stream",
     "text": [
      "Digite o valor em metros :1.5\n",
      "O valor da conversão para centímetros é : 150.0 cm \n"
     ]
    }
   ],
   "source": [
    "medida = float(input('Digite o valor em metros :'))\n",
    "converte = medida * 100\n",
    "print(f'O valor da conversão para centímetros é : {converte} cm ')\n"
   ]
  },
  {
   "cell_type": "markdown",
   "metadata": {},
   "source": [
    "6.Faça um Programa que peça o raio de um círculo, calcule e mostre sua área."
   ]
  },
  {
   "cell_type": "code",
   "execution_count": 8,
   "metadata": {},
   "outputs": [
    {
     "name": "stdout",
     "output_type": "stream",
     "text": [
      "Digite o raio do círculo :3.2\n",
      "A área do círculo é : 32.15\n"
     ]
    }
   ],
   "source": [
    "raio = float(input('Digite o raio do círculo :'))\n",
    "area = 3.14 * (raio ** 2)\n",
    "print(f'A área do círculo é : {area :.4}')"
   ]
  },
  {
   "cell_type": "markdown",
   "metadata": {},
   "source": [
    "7.Faça um Programa que calcule a área de um quadrado, em seguida mostre o dobro desta área para o usuário."
   ]
  },
  {
   "cell_type": "code",
   "execution_count": 11,
   "metadata": {},
   "outputs": [
    {
     "name": "stdout",
     "output_type": "stream",
     "text": [
      "Digite o lado do quadrado :3\n",
      "A área do quadrado é 9.0 e o dobro da área é 18.0 \n"
     ]
    }
   ],
   "source": [
    "lado = float(input('Digite o lado do quadrado :'))\n",
    "area = lado ** 2\n",
    "dobro = area * 2\n",
    "print(f'A área do quadrado é {area} e o dobro da área é {dobro} ')"
   ]
  },
  {
   "cell_type": "markdown",
   "metadata": {},
   "source": [
    "8.Faça um Programa que pergunte quanto você ganha por hora e o número de horas trabalhadas no mês. Calcule e mostre o total do seu salário no referido mês."
   ]
  },
  {
   "cell_type": "code",
   "execution_count": 13,
   "metadata": {},
   "outputs": [
    {
     "name": "stdout",
     "output_type": "stream",
     "text": [
      "Quanto você ganha por hora em R$ ?5\n",
      "Quantas horas você trabalhou esse mês ?100\n",
      "O seu salário desse mês é : R$500.0\n"
     ]
    }
   ],
   "source": [
    "valorhora = float(input('Quanto você ganha por hora em R$ ?'))\n",
    "numerohoras = float(input('Quantas horas você trabalhou esse mês ?'))\n",
    "salario = valorhora * numerohoras\n",
    "print(f'O seu salário desse mês é : R${salario}')"
   ]
  },
  {
   "cell_type": "code",
   "execution_count": null,
   "metadata": {},
   "outputs": [],
   "source": []
  },
  {
   "cell_type": "code",
   "execution_count": null,
   "metadata": {},
   "outputs": [],
   "source": []
  }
 ],
 "metadata": {
  "kernelspec": {
   "display_name": "Python 3",
   "language": "python",
   "name": "python3"
  },
  "language_info": {
   "codemirror_mode": {
    "name": "ipython",
    "version": 3
   },
   "file_extension": ".py",
   "mimetype": "text/x-python",
   "name": "python",
   "nbconvert_exporter": "python",
   "pygments_lexer": "ipython3",
   "version": "3.7.3"
  }
 },
 "nbformat": 4,
 "nbformat_minor": 2
}
