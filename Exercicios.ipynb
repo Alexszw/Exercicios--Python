{
 "cells": [
  {
   "cell_type": "markdown",
   "metadata": {},
   "source": [
    "1.Faça um Programa que mostre a mensagem \"Alo mundo\" na tela."
   ]
  },
  {
   "cell_type": "code",
   "execution_count": 1,
   "metadata": {},
   "outputs": [
    {
     "name": "stdout",
     "output_type": "stream",
     "text": [
      "Olá mundo!\n"
     ]
    }
   ],
   "source": [
    "print('Olá mundo!')"
   ]
  },
  {
   "cell_type": "markdown",
   "metadata": {},
   "source": [
    "2.Faça um Programa que peça um número e então mostre a mensagem O número informado foi [número]."
   ]
  },
  {
   "cell_type": "code",
   "execution_count": 2,
   "metadata": {},
   "outputs": [
    {
     "name": "stdout",
     "output_type": "stream",
     "text": [
      "Digite um número :23\n",
      "O número informado foi 23 !\n"
     ]
    }
   ],
   "source": [
    "numero = int(input('Digite um número :'))\n",
    "print(f'O número informado foi {numero} !')"
   ]
  },
  {
   "cell_type": "markdown",
   "metadata": {},
   "source": [
    "3.Faça um Programa que peça dois números e imprima a soma."
   ]
  },
  {
   "cell_type": "code",
   "execution_count": 3,
   "metadata": {},
   "outputs": [
    {
     "name": "stdout",
     "output_type": "stream",
     "text": [
      "Digite um número :12\n",
      "Digite outro número :21\n",
      "A soma de 12 + 21 é : 33 \n"
     ]
    }
   ],
   "source": [
    "n1 = int(input('Digite um número :'))\n",
    "n2 = int(input('Digite outro número :'))\n",
    "print(f'A soma de {n1} + {n2} é : {n1+n2} ')"
   ]
  },
  {
   "cell_type": "markdown",
   "metadata": {},
   "source": [
    "4.Faça um Programa que peça as 4 notas bimestrais e mostre a média."
   ]
  },
  {
   "cell_type": "code",
   "execution_count": 4,
   "metadata": {},
   "outputs": [
    {
     "name": "stdout",
     "output_type": "stream",
     "text": [
      "Digite a primeira nota :8\n",
      "Digite a segunda nota :7\n",
      "Digite a terceira nota :6\n",
      "Digite a quarta nota :7\n",
      "A média das notas bimestrais é : 7.0\n"
     ]
    }
   ],
   "source": [
    "n1 = float(input('Digite a primeira nota :'))\n",
    "n2 = float(input('Digite a segunda nota :'))\n",
    "n3 = float(input('Digite a terceira nota :'))\n",
    "n4 = float(input('Digite a quarta nota :'))\n",
    "print(f'A média das notas bimestrais é : {(n1+n2+n3+n4)/4}')\n"
   ]
  },
  {
   "cell_type": "markdown",
   "metadata": {},
   "source": [
    "5.Faça um Programa que converta metros para centímetros."
   ]
  },
  {
   "cell_type": "code",
   "execution_count": 5,
   "metadata": {},
   "outputs": [
    {
     "name": "stdout",
     "output_type": "stream",
     "text": [
      "Digite o valor em metros :12\n",
      "O valor da conversão para centímetros é : 1200.0 cm \n"
     ]
    }
   ],
   "source": [
    "medida = float(input('Digite o valor em metros :'))\n",
    "converte = medida * 100\n",
    "print(f'O valor da conversão para centímetros é : {converte} cm ')\n"
   ]
  },
  {
   "cell_type": "markdown",
   "metadata": {},
   "source": [
    "6.Faça um Programa que peça o raio de um círculo, calcule e mostre sua área."
   ]
  },
  {
   "cell_type": "code",
   "execution_count": 9,
   "metadata": {},
   "outputs": [
    {
     "name": "stdout",
     "output_type": "stream",
     "text": [
      "Digite o raio do círculo :12\n",
      "A área do círculo é : 452.2\n"
     ]
    }
   ],
   "source": [
    "raio = float(input('Digite o raio do círculo :'))\n",
    "area = 3.14 * (raio ** 2)\n",
    "print(f'A área do círculo é : {area :.4}')"
   ]
  },
  {
   "cell_type": "markdown",
   "metadata": {},
   "source": [
    "7.Faça um Programa que calcule a área de um quadrado, em seguida mostre o dobro desta área para o usuário."
   ]
  },
  {
   "cell_type": "code",
   "execution_count": 10,
   "metadata": {},
   "outputs": [
    {
     "name": "stdout",
     "output_type": "stream",
     "text": [
      "Digite o lado do quadrado :13\n",
      "A área do quadrado é 169.0 e o dobro da área é 338.0 \n"
     ]
    }
   ],
   "source": [
    "lado = float(input('Digite o lado do quadrado :'))\n",
    "area = lado ** 2\n",
    "dobro = area * 2\n",
    "print(f'A área do quadrado é {area} e o dobro da área é {dobro} ')"
   ]
  },
  {
   "cell_type": "markdown",
   "metadata": {},
   "source": [
    "8.Faça um Programa que pergunte quanto você ganha por hora e o número de horas trabalhadas no mês. Calcule e mostre o total do seu salário no referido mês."
   ]
  },
  {
   "cell_type": "code",
   "execution_count": 11,
   "metadata": {},
   "outputs": [
    {
     "name": "stdout",
     "output_type": "stream",
     "text": [
      "Quanto você ganha por hora em R$ ?20\n",
      "Quantas horas você trabalhou esse mês ?220\n",
      "O seu salário desse mês é : R$4400.0\n"
     ]
    }
   ],
   "source": [
    "valorhora = float(input('Quanto você ganha por hora em R$ ?'))\n",
    "numerohoras = float(input('Quantas horas você trabalhou esse mês ?'))\n",
    "salario = valorhora * numerohoras\n",
    "print(f'O seu salário desse mês é : R${salario}')"
   ]
  },
  {
   "cell_type": "markdown",
   "metadata": {},
   "source": [
    "9.Faça um Programa que peça a temperatura em graus Farenheit, transforme e mostre a temperatura em graus Celsius.\n",
    "\n",
    "C = (5 * (F-32) / 9)"
   ]
  },
  {
   "cell_type": "code",
   "execution_count": 12,
   "metadata": {},
   "outputs": [
    {
     "name": "stdout",
     "output_type": "stream",
     "text": [
      "Digite a temperatura em graus Farenheit :34\n",
      "A temperatura em graus Celsius é : 1.11\n"
     ]
    }
   ],
   "source": [
    "farenheit = float(input('Digite a temperatura em graus Farenheit :'))\n",
    "celsius = (5 * (farenheit - 32)/9)\n",
    "print(f'A temperatura em graus Celsius é : {celsius :.3}')"
   ]
  },
  {
   "cell_type": "markdown",
   "metadata": {},
   "source": [
    "10.Faça um Programa que peça a temperatura em graus Celsius, transforme e mostre em graus Farenheit."
   ]
  },
  {
   "cell_type": "code",
   "execution_count": 14,
   "metadata": {},
   "outputs": [
    {
     "name": "stdout",
     "output_type": "stream",
     "text": [
      "Digite a temperatura em graus Clesius :23\n",
      "A temperatura em graus Farenheit é : 73.4\n"
     ]
    }
   ],
   "source": [
    "celsius = float(input('Digite a temperatura em graus Clesius :'))\n",
    "farenheit = (1.8 * celsius) + 32\n",
    "print(f'A temperatura em graus Farenheit é : {farenheit :.3}')"
   ]
  },
  {
   "cell_type": "markdown",
   "metadata": {},
   "source": [
    "11.Faça um Programa que peça 2 números inteiros e um número real. Calcule e mostre:\n",
    "A . o produto do dobro do primeiro com metade do segundo .\n",
    "B . a soma do triplo do primeiro com o terceiro.\n",
    "C . o terceiro elevado ao cubo."
   ]
  },
  {
   "cell_type": "code",
   "execution_count": 15,
   "metadata": {},
   "outputs": [
    {
     "name": "stdout",
     "output_type": "stream",
     "text": [
      "Digite um número inteiro :4\n",
      "Digite outro número inteiro :3\n",
      "Digite um número real :3.3\n",
      "O produto do dobro do primeiro com metade do segundo é : 12.0\n",
      "A soma do triplo do primeiro com o terceiro é : 15.3\n",
      "Oterceiro elevado ao cubo é : 35.9\n"
     ]
    }
   ],
   "source": [
    "n1 = int(input('Digite um número inteiro :'))\n",
    "n2 = int(input('Digite outro número inteiro :'))\n",
    "n3 = float(input('Digite um número real :'))\n",
    "dobro = (n1 * 2) * (n2 / 2)\n",
    "triplo = (n1 * 3) + (n3)\n",
    "cubo = n3 **3\n",
    "print(f'O produto do dobro do primeiro com metade do segundo é : {dobro :.3}')\n",
    "print(f'A soma do triplo do primeiro com o terceiro é : {triplo :.3}')\n",
    "print(f'Oterceiro elevado ao cubo é : {cubo :.3}')"
   ]
  },
  {
   "cell_type": "markdown",
   "metadata": {},
   "source": [
    "12.Tendo como dados de entrada a altura de uma pessoa, construa um algoritmo que calcule seu peso ideal, usando a seguinte fórmula: (72.7*altura) - 58"
   ]
  },
  {
   "cell_type": "code",
   "execution_count": 16,
   "metadata": {},
   "outputs": [
    {
     "name": "stdout",
     "output_type": "stream",
     "text": [
      "Digite a sua altura :1.76\n",
      "O seu peso ideal é 70.0 Kg\n"
     ]
    }
   ],
   "source": [
    "altura = float(input('Digite a sua altura :'))\n",
    "pesoideal = (72.7 * altura) - 58\n",
    "print(f'O seu peso ideal é {pesoideal :.3} Kg')"
   ]
  },
  {
   "cell_type": "markdown",
   "metadata": {},
   "source": [
    "13.Tendo como dado de entrada a altura (h) de uma pessoa, construa um algoritmo que calcule seu peso ideal, utilizando as seguintes fórmulas:\n",
    "Para homens: (72.7*h) - 58\n",
    "Para mulheres: (62.1*h) - 44.7"
   ]
  },
  {
   "cell_type": "code",
   "execution_count": 17,
   "metadata": {},
   "outputs": [
    {
     "name": "stdout",
     "output_type": "stream",
     "text": [
      "Digite a sua altura :1.76\n",
      "O peso ideal para essa altura é : 70.0 kg para homens e 64.6 kg para mulheres. \n"
     ]
    }
   ],
   "source": [
    "altura = float(input('Digite a sua altura :'))\n",
    "idealhomens = (72.7 * altura ) - 58\n",
    "idealmulher = (62.1 * altura) - 44.7\n",
    "print(f'O peso ideal para essa altura é : {idealhomens :.3} kg para homens e {idealmulher :.3} kg para mulheres. ')"
   ]
  },
  {
   "cell_type": "markdown",
   "metadata": {},
   "source": [
    "14.João Papo-de-Pescador, homem de bem, comprou um microcomputador para controlar o rendimento diário de seu trabalho. Toda vez que ele traz um peso de peixes maior que o estabelecido pelo regulamento de pesca do estado de São Paulo (50 quilos) deve pagar uma multa de R$ 4,00 por quilo excedente. João precisa que você faça um programa que leia a variável peso (peso de peixes) e calcule o excesso. Gravar na variável excesso a quantidade de quilos além do limite e na variável multa o valor da multa que João deverá pagar. Imprima os dados do programa com as mensagens adequadas."
   ]
  },
  {
   "cell_type": "code",
   "execution_count": 20,
   "metadata": {},
   "outputs": [
    {
     "name": "stdout",
     "output_type": "stream",
     "text": [
      "Digite a quantidade em quilos de peixe :65\n",
      "Você excedeu a quantidade em 15.0 kgs e vai pagar uma multa de R$ 60.0\n"
     ]
    }
   ],
   "source": [
    "peso = float(input('Digite a quantidade em quilos de peixe :'))\n",
    "if peso <= 50 :\n",
    "    print('Quantidade não excede o regulamento!')\n",
    "elif peso > 50 :\n",
    "    excesso = peso - 50\n",
    "    multa = excesso * 4\n",
    "    print(f'Você excedeu a quantidade em {excesso} kgs e vai pagar uma multa de R$ {multa}')"
   ]
  },
  {
   "cell_type": "markdown",
   "metadata": {},
   "source": [
    "15.Faça um Programa que pergunte quanto você ganha por hora e o número de horas trabalhadas no mês. Calcule e mostre o total do seu salário no referido mês, sabendo-se que são descontados 11% para o Imposto de Renda, 8% para o INSS e 5% para o sindicato, faça um programa que nos dê:\n",
    "-salário bruto.\n",
    "\n",
    "-quanto pagou ao INSS.\n",
    "-quanto pagou ao sindicato.\n",
    "-o salário líquido."
   ]
  },
  {
   "cell_type": "code",
   "execution_count": 21,
   "metadata": {},
   "outputs": [
    {
     "name": "stdout",
     "output_type": "stream",
     "text": [
      "Digite o valor de sua hora trabalhada :20\n",
      "Digite a quantidade de horas trabalhadas no mês :220\n",
      "**************************************************\n",
      "****************** contra cheque **************** \n",
      "Salário bruto : R$ 4400.0\n",
      "Imposto de renda : R$ 484.0\n",
      "Inss : R$ 352.0\n",
      "Sindicato : R$ 220.0\n",
      "Salário liquido : R$ 3344.0\n"
     ]
    }
   ],
   "source": [
    "preco_hora = float(input('Digite o valor de sua hora trabalhada :'))\n",
    "horas_trabalhadas = float(input('Digite a quantidade de horas trabalhadas no mês :'))\n",
    "salario_bruto = preco_hora * horas_trabalhadas\n",
    "imposto = (salario_bruto * 11 ) / 100\n",
    "inss    = (salario_bruto * 8 ) / 100\n",
    "sindicato = (salario_bruto * 5) / 100\n",
    "salario_liquido = salario_bruto - (imposto + inss + sindicato)\n",
    "print('**************************************************')\n",
    "print('****************** contra cheque **************** ')\n",
    "print(f'Salário bruto : R$ {salario_bruto}')\n",
    "print(f'Imposto de renda : R$ {imposto}')\n",
    "print(f'Inss : R$ {inss}')\n",
    "print(f'Sindicato : R$ {sindicato}')\n",
    "print(f'Salário liquido : R$ {salario_liquido}')"
   ]
  },
  {
   "cell_type": "markdown",
   "metadata": {},
   "source": [
    "16.Faça um programa para uma loja de tintas. O programa deverá pedir o tamanho em metros quadrados da área a ser pintada. Considere que a cobertura da tinta é de 1 litro para cada 3 metros quadrados e que a tinta é vendida em latas de 18 litros, que custam R$ 80,00. Informe ao usuário a quantidades de latas de tinta a serem compradas e o preço total."
   ]
  },
  {
   "cell_type": "code",
   "execution_count": 8,
   "metadata": {},
   "outputs": [
    {
     "name": "stdout",
     "output_type": "stream",
     "text": [
      "Digite o tamanho em metros quadrados a ser pintado : 109\n",
      "Você vai precisar de 3 latas de tinta e o valor da R$ 240\n"
     ]
    }
   ],
   "source": [
    "import math\n",
    "tamanho = float(input('Digite o tamanho em metros quadrados a ser pintado : '))\n",
    "qtd_tinta = (tamanho / 3)\n",
    "numero_latas = math.ceil(qtd_tinta / 18)\n",
    "preco = numero_latas * 80\n",
    "print(f'Você vai precisar de {numero_latas} latas de tinta e o valor da R$ {preco}')\n",
    "    \n",
    "    \n",
    "    \n",
    "    \n",
    "    "
   ]
  },
  {
   "cell_type": "code",
   "execution_count": null,
   "metadata": {},
   "outputs": [],
   "source": []
  },
  {
   "cell_type": "code",
   "execution_count": null,
   "metadata": {},
   "outputs": [],
   "source": []
  },
  {
   "cell_type": "code",
   "execution_count": null,
   "metadata": {},
   "outputs": [],
   "source": []
  },
  {
   "cell_type": "code",
   "execution_count": null,
   "metadata": {},
   "outputs": [],
   "source": []
  },
  {
   "cell_type": "code",
   "execution_count": null,
   "metadata": {},
   "outputs": [],
   "source": []
  }
 ],
 "metadata": {
  "kernelspec": {
   "display_name": "Python 3",
   "language": "python",
   "name": "python3"
  },
  "language_info": {
   "codemirror_mode": {
    "name": "ipython",
    "version": 3
   },
   "file_extension": ".py",
   "mimetype": "text/x-python",
   "name": "python",
   "nbconvert_exporter": "python",
   "pygments_lexer": "ipython3",
   "version": "3.7.3"
  }
 },
 "nbformat": 4,
 "nbformat_minor": 2
}
